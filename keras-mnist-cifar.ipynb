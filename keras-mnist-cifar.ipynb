{
 "cells": [
  {
   "cell_type": "code",
   "execution_count": 24,
   "metadata": {},
   "outputs": [],
   "source": [
    "import keras\n",
    "from keras.datasets import cifar10, mnist\n",
    "from keras.models import Sequential\n",
    "from keras.layers import Dense, Dropout, Flatten, Reshape\n",
    "from keras.layers import Conv2D, MaxPooling2D\n",
    "from keras import backend as K\n",
    "from keras import callbacks\n",
    "from keras import regularizers\n",
    "from keras.preprocessing.image import ImageDataGenerator\n",
    "import tensorflow as tf\n",
    "from keras.callbacks import TensorBoard\n",
    "import datetime\n",
    "import numpy as np"
   ]
  },
  {
   "cell_type": "code",
   "execution_count": 25,
   "metadata": {
    "collapsed": true
   },
   "outputs": [],
   "source": [
    "# the data, shuffled and split between train and test sets\n",
    "def load_data(dataset):\n",
    "    # Load\n",
    "    (x_train, y_train), (x_test, y_test) = dataset.load_data()\n",
    "    # Reshape X\n",
    "    img_rows = x_train.shape[1]\n",
    "    img_cols = x_train.shape[2]\n",
    "    n_channels = x_train.shape[3]\n",
    "    if K.image_data_format() == 'channels_first':\n",
    "        s = [n_channels, img_rows, img_cols]\n",
    "    else:\n",
    "        s = [img_rows, img_cols, n_channels]\n",
    "    x_train = x_train.reshape(x_train.shape[0], *s)\n",
    "    x_test = x_test.reshape(x_test.shape[0], *s)\n",
    "    # Rescale X\n",
    "    x_train = x_train.astype('float32')\n",
    "    x_test = x_test.astype('float32')\n",
    "    x_train /= 255\n",
    "    x_test /= 255\n",
    "    # Reshape y\n",
    "    num_classes = len(np.unique(y_train))\n",
    "    y_train = keras.utils.to_categorical(y_train, num_classes)\n",
    "    y_test = keras.utils.to_categorical(y_test, num_classes)\n",
    "    return (x_train, y_train), (x_test, y_test), img_rows, img_cols"
   ]
  },
  {
   "cell_type": "code",
   "execution_count": 26,
   "metadata": {
    "collapsed": true
   },
   "outputs": [],
   "source": [
    "def get_tensorboard(name=None):\n",
    "    name = name or 'Graph'\n",
    "    return TensorBoard(\n",
    "        log_dir='./{0}/{1}'.format(name, get_timestamp()), histogram_freq=0,\n",
    "        write_graph=True, write_images=False\n",
    "    )\n",
    "\n",
    "\n",
    "def get_timestamp():\n",
    "    return '{:%Y-%m-%d-%H-%M-%S}'.format(datetime.datetime.now())"
   ]
  },
  {
   "cell_type": "code",
   "execution_count": 27,
   "metadata": {
    "collapsed": true
   },
   "outputs": [],
   "source": [
    "(x_train, y_train), (x_test, y_test), img_rows, img_cols = load_data(cifar10)"
   ]
  },
  {
   "cell_type": "code",
   "execution_count": 28,
   "metadata": {},
   "outputs": [
    {
     "name": "stdout",
     "output_type": "stream",
     "text": [
      "x_train shape: (50000, 32, 32, 3)\n",
      "50000 train samples\n",
      "10000 test samples\n"
     ]
    }
   ],
   "source": [
    "print('x_train shape:', x_train.shape)\n",
    "print(x_train.shape[0], 'train samples')\n",
    "print(x_test.shape[0], 'test samples')"
   ]
  },
  {
   "cell_type": "code",
   "execution_count": 29,
   "metadata": {
    "collapsed": true
   },
   "outputs": [],
   "source": [
    "linear = Sequential()\n",
    "linear.add(Flatten(input_shape=x_train.shape[1:]))\n",
    "linear.add(Dense(units=10, activation='softmax'))"
   ]
  },
  {
   "cell_type": "code",
   "execution_count": 30,
   "metadata": {
    "collapsed": true
   },
   "outputs": [],
   "source": [
    "small_cnn = Sequential()\n",
    "\n",
    "small_cnn.add(Conv2D(32, (5, 5), activation='relu', input_shape=x_train.shape[1:], padding=\"same\"))\n",
    "small_cnn.add(Conv2D(32, (5, 5), activation='relu',  padding=\"same\", ))\n",
    "small_cnn.add(MaxPooling2D(pool_size=(2, 2)))\n",
    "small_cnn.add(Dropout(0.3))\n",
    "\n",
    "small_cnn.add(Conv2D(64, (3, 3), activation='relu',  padding=\"same\"))\n",
    "small_cnn.add(Conv2D(64, (3, 3), activation='relu',  padding=\"same\"))\n",
    "small_cnn.add(MaxPooling2D(pool_size=(2, 2)))\n",
    "small_cnn.add(Dropout(0.3))\n",
    "\n",
    "small_cnn.add(Conv2D(128, (3, 3), activation='relu',  padding=\"same\"))\n",
    "small_cnn.add(Conv2D(128, (3, 3), activation='relu',  padding=\"same\"))\n",
    "small_cnn.add(MaxPooling2D(pool_size=(2, 2)))\n",
    "small_cnn.add(Dropout(0.3))\n",
    "\n",
    "small_cnn.add(Flatten())\n",
    "\n",
    "small_cnn.add(Dense(units=64, activation='relu', kernel_regularizer=regularizers.l2(0.01)))\n",
    "small_cnn.add(Dense(units=64, activation='relu', kernel_regularizer=regularizers.l2(0.01)))\n",
    "\n",
    "small_cnn.add(Dense(units=10, activation='softmax'))"
   ]
  },
  {
   "cell_type": "code",
   "execution_count": 31,
   "metadata": {},
   "outputs": [
    {
     "data": {
      "text/plain": [
       "<keras.preprocessing.image.NumpyArrayIterator at 0x7f948e78deb8>"
      ]
     },
     "execution_count": 31,
     "metadata": {},
     "output_type": "execute_result"
    }
   ],
   "source": [
    "#model = linear\n",
    "model = small_cnn\n",
    "\n",
    "#Set up tensorboard\n",
    "tb = get_tensorboard(name=\"Graph1\")\n",
    "\n",
    "# Set up Data Generator\n",
    "datagen = ImageDataGenerator(rotation_range=90)\n",
    "datagen.fit(x_train)\n",
    "datagen.flow(x_train, y_train)"
   ]
  },
  {
   "cell_type": "code",
   "execution_count": 32,
   "metadata": {
    "collapsed": true
   },
   "outputs": [],
   "source": [
    "model.compile(loss=keras.losses.categorical_crossentropy,\n",
    "              optimizer=keras.optimizers.Adadelta(),\n",
    "              metrics=['accuracy'])"
   ]
  },
  {
   "cell_type": "code",
   "execution_count": null,
   "metadata": {
    "scrolled": true
   },
   "outputs": [
    {
     "name": "stdout",
     "output_type": "stream",
     "text": [
      "Train on 6000 samples, validate on 6000 samples\n",
      "Epoch 1/10\n",
      "6000/6000 [==============================] - 165s - loss: 3.4135 - acc: 0.1453 - val_loss: 2.9306 - val_acc: 0.1490\n",
      "Epoch 2/10\n",
      "6000/6000 [==============================] - 153s - loss: 2.6540 - acc: 0.2183 - val_loss: 2.4633 - val_acc: 0.2423\n",
      "Epoch 3/10\n",
      "6000/6000 [==============================] - 149s - loss: 2.3621 - acc: 0.2582 - val_loss: 2.2714 - val_acc: 0.2978\n",
      "Epoch 4/10\n",
      "6000/6000 [==============================] - 163s - loss: 2.2026 - acc: 0.2853 - val_loss: 2.1031 - val_acc: 0.3267\n",
      "Epoch 5/10\n",
      "6000/6000 [==============================] - 156s - loss: 2.0715 - acc: 0.3230 - val_loss: 2.1018 - val_acc: 0.3160\n",
      "Epoch 6/10\n",
      "6000/6000 [==============================] - 151s - loss: 1.9584 - acc: 0.3535 - val_loss: 1.9880 - val_acc: 0.3522\n",
      "Epoch 7/10\n",
      "6000/6000 [==============================] - 152s - loss: 1.8732 - acc: 0.3777 - val_loss: 1.8211 - val_acc: 0.3932\n",
      "Epoch 8/10\n",
      "  64/6000 [..............................] - ETA: 128s - loss: 1.8605 - acc: 0.3594"
     ]
    }
   ],
   "source": [
    "n_train    = 6000\n",
    "batch_size = 64\n",
    "epochs     = 10\n",
    "\n",
    "model.fit(x_train[:n_train], y_train[:n_train],\n",
    "          batch_size=batch_size,\n",
    "          epochs=epochs,\n",
    "          verbose=1,\n",
    "          validation_data=(x_test[:n_train], y_test[:n_train]), callbacks=[tb])"
   ]
  },
  {
   "cell_type": "code",
   "execution_count": 23,
   "metadata": {},
   "outputs": [
    {
     "name": "stdout",
     "output_type": "stream",
     "text": [
      "Test accuracy: 0.4407\n"
     ]
    }
   ],
   "source": [
    "_, acc = model.evaluate(x_test, y_test, verbose=0)\n",
    "print('Test accuracy:', acc)"
   ]
  },
  {
   "cell_type": "code",
   "execution_count": null,
   "metadata": {
    "collapsed": true
   },
   "outputs": [],
   "source": []
  }
 ],
 "metadata": {
  "kernelspec": {
   "display_name": "Python 3",
   "language": "python",
   "name": "python3"
  },
  "language_info": {
   "codemirror_mode": {
    "name": "ipython",
    "version": 3
   },
   "file_extension": ".py",
   "mimetype": "text/x-python",
   "name": "python",
   "nbconvert_exporter": "python",
   "pygments_lexer": "ipython3",
   "version": "3.6.1"
  }
 },
 "nbformat": 4,
 "nbformat_minor": 2
}
